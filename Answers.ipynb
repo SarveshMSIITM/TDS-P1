{
  "nbformat": 4,
  "nbformat_minor": 0,
  "metadata": {
    "colab": {
      "provenance": []
    },
    "kernelspec": {
      "name": "python3",
      "display_name": "Python 3"
    },
    "language_info": {
      "name": "python"
    }
  },
  "cells": [
    {
      "cell_type": "markdown",
      "source": [
        "Scrap Code to get users.csv and repositories.csv"
      ],
      "metadata": {
        "id": "yivGpCTXRh_O"
      }
    },
    {
      "cell_type": "code",
      "execution_count": 1,
      "metadata": {
        "colab": {
          "base_uri": "https://localhost:8080/"
        },
        "id": "9Dqk2knLOVAy",
        "outputId": "69b61535-cf78-421b-9c16-35a8d7808ec7"
      },
      "outputs": [
        {
          "output_type": "stream",
          "name": "stdout",
          "text": [
            "Fetching page 1...\n",
            "Fetching page 2...\n",
            "Fetching page 3...\n",
            "Fetching page 4...\n",
            "Fetching page 5...\n",
            "Done\n"
          ]
        }
      ],
      "source": [
        "import requests\n",
        "import csv\n",
        "\n",
        "GITHUB_TOKEN = \"\"\n",
        "HEADERS = {\"Authorization\": f\"token {GITHUB_TOKEN}\"}\n",
        "\n",
        "def get_users_in_basel():\n",
        "    users = []\n",
        "    query = \"location:Zurich+followers:>50\"\n",
        "    page = 1\n",
        "    per_page = 100\n",
        "    total_users = 0\n",
        "\n",
        "    while True:\n",
        "        url = f\"https://api.github.com/search/users?q={query}&per_page={per_page}&page={page}\"\n",
        "        response = requests.get(url, headers=HEADERS)\n",
        "        print(f\"Fetching page {page}...\")\n",
        "\n",
        "        if response.status_code != 200:\n",
        "            print(\"Error fetching data:\", response.json())\n",
        "            break\n",
        "\n",
        "        data = response.json()\n",
        "        users.extend(data['items'])\n",
        "        total_users += len(data['items'])\n",
        "\n",
        "        if len(data['items']) < per_page:\n",
        "            break\n",
        "\n",
        "        page += 1\n",
        "\n",
        "    detailed_users = []\n",
        "    for user in users:\n",
        "        user_info = get_user_details(user['login'])\n",
        "        detailed_users.append(user_info)\n",
        "\n",
        "    return detailed_users\n",
        "\n",
        "def get_user_details(username):\n",
        "    user_url = f\"https://api.github.com/users/{username}\"\n",
        "    user_data = requests.get(user_url, headers=HEADERS).json()\n",
        "\n",
        "    return {\n",
        "        'login': user_data['login'],\n",
        "        'name': user_data['name'],\n",
        "        'company': clean_company_name(user_data['company']),\n",
        "        'location': user_data['location'],\n",
        "        'email': user_data['email'],\n",
        "        'hireable': user_data['hireable'],\n",
        "        'bio': user_data['bio'],\n",
        "        'public_repos': user_data['public_repos'],\n",
        "        'followers': user_data['followers'],\n",
        "        'following': user_data['following'],\n",
        "        'created_at': user_data['created_at'],\n",
        "    }\n",
        "\n",
        "def clean_company_name(company):\n",
        "    if company:\n",
        "        company = company.strip().upper()\n",
        "        if company.startswith('@'):\n",
        "            company = company[1:]\n",
        "    return company\n",
        "\n",
        "def get_user_repos(username):\n",
        "    repos_url = f\"https://api.github.com/users/{username}/repos?per_page=500\"\n",
        "    response = requests.get(repos_url, headers=HEADERS)\n",
        "    repos_data = response.json()\n",
        "\n",
        "    repos = []\n",
        "    for repo in repos_data:\n",
        "        repos.append({\n",
        "            'login': username,\n",
        "            'full_name': repo['full_name'],\n",
        "            'created_at': repo['created_at'],\n",
        "            'stargazers_count': repo['stargazers_count'],\n",
        "            'watchers_count': repo['watchers_count'],\n",
        "            'language': repo['language'],\n",
        "            'has_projects': repo['has_projects'],\n",
        "            'has_wiki': repo['has_wiki'],\n",
        "            'license_name': repo['license']['key'] if repo['license'] else None,\n",
        "        })\n",
        "\n",
        "    return repos\n",
        "\n",
        "def save_users_to_csv(users):\n",
        "    with open('users.csv', mode='w', newline='', encoding='utf-8') as file:\n",
        "        writer = csv.DictWriter(file, fieldnames=['login', 'name', 'company', 'location', 'email', 'hireable', 'bio', 'public_repos', 'followers', 'following', 'created_at'])\n",
        "        writer.writeheader()\n",
        "        writer.writerows(users)\n",
        "\n",
        "def save_repos_to_csv(repos):\n",
        "    with open('repositories.csv', mode='w', newline='', encoding='utf-8') as file:\n",
        "        writer = csv.DictWriter(file, fieldnames=['login', 'full_name', 'created_at', 'stargazers_count', 'watchers_count', 'language', 'has_projects', 'has_wiki', 'license_name'])\n",
        "        writer.writeheader()\n",
        "        writer.writerows(repos)\n",
        "\n",
        "if __name__ == \"__main__\":\n",
        "    users = get_users_in_basel()\n",
        "    save_users_to_csv(users)\n",
        "\n",
        "    all_repos = []\n",
        "    for user in users:\n",
        "        repos = get_user_repos(user['login'])\n",
        "        all_repos.extend(repos)\n",
        "\n",
        "    save_repos_to_csv(all_repos)\n",
        "    print(\"Done\")"
      ]
    },
    {
      "cell_type": "markdown",
      "source": [
        "Question 1: Who are the top 5 users in Zurich with the highest number of followers? List their login in order, comma-separated."
      ],
      "metadata": {
        "id": "TwY3sXswR0h8"
      }
    },
    {
      "cell_type": "code",
      "source": [
        "import pandas as pd\n",
        "\n",
        "users_df = pd.read_csv('users.csv')\n",
        "\n",
        "top_users = users_df.sort_values(by='followers', ascending=False).head(5)\n",
        "\n",
        "top_logins = ', '.join(top_users['login'].tolist())\n",
        "\n",
        "print(\"Top 5 Users in Zurich with the highest followers:\", top_logins)\n"
      ],
      "metadata": {
        "colab": {
          "base_uri": "https://localhost:8080/"
        },
        "id": "b33vS0UkRNHB",
        "outputId": "6768efba-b62d-4467-a2ab-798bb27f98ef"
      },
      "execution_count": 3,
      "outputs": [
        {
          "output_type": "stream",
          "name": "stdout",
          "text": [
            "Top 5 Users in Zurich with the highest followers: IDouble, TheOfficialFloW, Seldaek, riscv, JonnyBurger\n"
          ]
        }
      ]
    },
    {
      "cell_type": "markdown",
      "source": [
        "Question 2: Who are the 5 earliest registered GitHub users in Zurich? List their login in ascending order of created_at, comma-separated."
      ],
      "metadata": {
        "id": "Rr3YE6JGR6n-"
      }
    },
    {
      "cell_type": "code",
      "source": [
        "import pandas as pd\n",
        "\n",
        "users_df = pd.read_csv('users.csv')\n",
        "\n",
        "users_df['created_at'] = pd.to_datetime(users_df['created_at'])\n",
        "\n",
        "earliest_users = users_df.sort_values(by='created_at', ascending=True).head(5)\n",
        "\n",
        "earliest_logins = ', '.join(earliest_users['login'].tolist())\n",
        "\n",
        "print(\"5 earliest registered GitHub users in Zurich:\", earliest_logins)\n"
      ],
      "metadata": {
        "colab": {
          "base_uri": "https://localhost:8080/"
        },
        "id": "5USZaeGPRf2Z",
        "outputId": "63341ac7-a3bb-46e9-aab2-a2ed7f229ebb"
      },
      "execution_count": 5,
      "outputs": [
        {
          "output_type": "stream",
          "name": "stdout",
          "text": [
            "5 earliest registered GitHub users in Zurich: lejoe, uwolfer, matthiask, oscardelben, panterch\n"
          ]
        }
      ]
    },
    {
      "cell_type": "markdown",
      "source": [
        "Question 3: What are the 3 most popular license among these users? Ignore missing licenses. List the license_name in order, comma-separated."
      ],
      "metadata": {
        "id": "MOrSmWuQSKWz"
      }
    },
    {
      "cell_type": "code",
      "source": [
        "import pandas as pd\n",
        "\n",
        "repos_df = pd.read_csv('repositories.csv')\n",
        "\n",
        "repos_df = repos_df.dropna(subset=['license_name'])\n",
        "\n",
        "top_licenses = repos_df['license_name'].value_counts().head(3)\n",
        "\n",
        "top_license_names = ', '.join(top_licenses.index.tolist())\n",
        "\n",
        "print(\"3 most popular licenses among these users:\", top_license_names)\n"
      ],
      "metadata": {
        "colab": {
          "base_uri": "https://localhost:8080/"
        },
        "id": "C83BJzYESP9M",
        "outputId": "1fe54e83-3301-4770-c9d1-92b8ff89f998"
      },
      "execution_count": 6,
      "outputs": [
        {
          "output_type": "stream",
          "name": "stdout",
          "text": [
            "3 most popular licenses among these users: mit, other, apache-2.0\n"
          ]
        }
      ]
    },
    {
      "cell_type": "markdown",
      "source": [
        "Question 4: Which company do the majority of these developers work at?"
      ],
      "metadata": {
        "id": "0SdzDe87SYMT"
      }
    },
    {
      "cell_type": "code",
      "source": [
        "import pandas as pd\n",
        "\n",
        "users_df = pd.read_csv('users.csv')\n",
        "\n",
        "users_df = users_df[users_df['company'].notna() & (users_df['company'] != '')]\n",
        "\n",
        "top_company = users_df['company'].value_counts().idxmax()\n",
        "\n",
        "print(\"The majority of these developers work at:\", top_company)\n"
      ],
      "metadata": {
        "colab": {
          "base_uri": "https://localhost:8080/"
        },
        "id": "KMqwwpEqScck",
        "outputId": "779c3fb9-e690-4b3e-cfd3-a74b00f1e8f3"
      },
      "execution_count": 7,
      "outputs": [
        {
          "output_type": "stream",
          "name": "stdout",
          "text": [
            "The majority of these developers work at: GOOGLE\n"
          ]
        }
      ]
    },
    {
      "cell_type": "markdown",
      "source": [
        "Question 5: Which programming language is most popular among these users?"
      ],
      "metadata": {
        "id": "grj6rxoWShD1"
      }
    },
    {
      "cell_type": "code",
      "source": [
        "import pandas as pd\n",
        "\n",
        "repos_df = pd.read_csv('repositories.csv')\n",
        "\n",
        "repos_df = repos_df.dropna(subset=['language'])\n",
        "\n",
        "top_language = repos_df['language'].value_counts().idxmax()\n",
        "\n",
        "print(\"The most popular programming language among these users is:\", top_language)\n"
      ],
      "metadata": {
        "colab": {
          "base_uri": "https://localhost:8080/"
        },
        "id": "ZWwH3Q9TSkgr",
        "outputId": "0125e850-21d6-4272-940b-9b60c8e65584"
      },
      "execution_count": 8,
      "outputs": [
        {
          "output_type": "stream",
          "name": "stdout",
          "text": [
            "The most popular programming language among these users is: Python\n"
          ]
        }
      ]
    },
    {
      "cell_type": "markdown",
      "source": [
        "Question 6: Which programming language is the second most popular among users who joined after 2020?"
      ],
      "metadata": {
        "id": "0yFT_tW1SqWO"
      }
    },
    {
      "cell_type": "code",
      "source": [
        "import pandas as pd\n",
        "\n",
        "users_df = pd.read_csv('users.csv')\n",
        "repos_df = pd.read_csv('repositories.csv')\n",
        "\n",
        "users_df['created_at'] = pd.to_datetime(users_df['created_at'])\n",
        "\n",
        "recent_users = users_df[users_df['created_at'].dt.year > 2020]\n",
        "\n",
        "recent_usernames = recent_users['login'].tolist()\n",
        "\n",
        "recent_repos = repos_df[repos_df['login'].isin(recent_usernames)]\n",
        "\n",
        "recent_repos = recent_repos.dropna(subset=['language'])\n",
        "\n",
        "language_counts = recent_repos['language'].value_counts()\n",
        "\n",
        "second_most_popular_language = language_counts.index[1] if len(language_counts) > 1 else None\n",
        "\n",
        "print(\"The second most popular programming language among users who joined after 2020 is:\", second_most_popular_language)\n"
      ],
      "metadata": {
        "colab": {
          "base_uri": "https://localhost:8080/"
        },
        "id": "aXru-SOlStj7",
        "outputId": "ddcb8339-6665-44d8-af86-1494363cb595"
      },
      "execution_count": 9,
      "outputs": [
        {
          "output_type": "stream",
          "name": "stdout",
          "text": [
            "The second most popular programming language among users who joined after 2020 is: JavaScript\n"
          ]
        }
      ]
    },
    {
      "cell_type": "markdown",
      "source": [
        "Question 7: Which language has the highest average number of stars per repository?"
      ],
      "metadata": {
        "id": "E0-RX9wOS1JZ"
      }
    },
    {
      "cell_type": "code",
      "source": [
        "import pandas as pd\n",
        "\n",
        "repos_df = pd.read_csv('repositories.csv')\n",
        "\n",
        "repos_df = repos_df.dropna(subset=['language', 'stargazers_count'])\n",
        "\n",
        "average_stars_per_language = repos_df.groupby('language')['stargazers_count'].mean()\n",
        "\n",
        "top_language = average_stars_per_language.idxmax()\n",
        "highest_average_stars = average_stars_per_language.max()\n",
        "\n",
        "print(f\"The language with the highest average stars per repository is: {top_language} with an average of {highest_average_stars:.2f} stars.\")\n"
      ],
      "metadata": {
        "colab": {
          "base_uri": "https://localhost:8080/"
        },
        "id": "rg8F_z0qS350",
        "outputId": "5a0ade4f-2ea7-4d33-eff2-34ea41e6b9d0"
      },
      "execution_count": 10,
      "outputs": [
        {
          "output_type": "stream",
          "name": "stdout",
          "text": [
            "The language with the highest average stars per repository is: BitBake with an average of 364.00 stars.\n"
          ]
        }
      ]
    },
    {
      "cell_type": "markdown",
      "source": [
        "Question 8: Let's define leader_strength as followers / (1 + following). Who are the top 5 in terms of leader_strength? List their login in order, comma-separated."
      ],
      "metadata": {
        "id": "1ULj48WLTCNA"
      }
    },
    {
      "cell_type": "code",
      "source": [
        "import pandas as pd\n",
        "\n",
        "users_df = pd.read_csv('users.csv')\n",
        "\n",
        "users_df['leader_strength'] = users_df['followers'] / (1 + users_df['following'])\n",
        "\n",
        "top_leader_strength_users = users_df.sort_values(by='leader_strength', ascending=False).head(5)\n",
        "\n",
        "top_leader_logins = ', '.join(top_leader_strength_users['login'].tolist())\n",
        "\n",
        "print(\"Top 5 users in terms of leader_strength:\", top_leader_logins)\n"
      ],
      "metadata": {
        "colab": {
          "base_uri": "https://localhost:8080/"
        },
        "id": "kjVr4MYpTEex",
        "outputId": "bead2322-ad49-4c9b-b9ba-0286ea495ecc"
      },
      "execution_count": 11,
      "outputs": [
        {
          "output_type": "stream",
          "name": "stdout",
          "text": [
            "Top 5 users in terms of leader_strength: riscv, bpasero, Seldaek, egamma, ethz-asl\n"
          ]
        }
      ]
    },
    {
      "cell_type": "markdown",
      "source": [
        "Question 9: What is the correlation between the number of followers and the number of public repositories among users in Zurich?"
      ],
      "metadata": {
        "id": "WmIJS3G-TJ8d"
      }
    },
    {
      "cell_type": "code",
      "source": [
        "import pandas as pd\n",
        "\n",
        "users_df = pd.read_csv('users.csv')\n",
        "\n",
        "correlation = users_df['followers'].corr(users_df['public_repos'])\n",
        "\n",
        "print(\"Correlation between the number of followers and the number of public repositories:\", correlation)\n"
      ],
      "metadata": {
        "colab": {
          "base_uri": "https://localhost:8080/"
        },
        "id": "czRdDyyZTM1G",
        "outputId": "611bb0e5-5773-455b-b0f2-b90e21316617"
      },
      "execution_count": 12,
      "outputs": [
        {
          "output_type": "stream",
          "name": "stdout",
          "text": [
            "Correlation between the number of followers and the number of public repositories: 0.06497852178552568\n"
          ]
        }
      ]
    },
    {
      "cell_type": "markdown",
      "source": [
        "Question 10: Does creating more repos help users get more followers? Using regression, estimate how many additional followers a user gets per additional public repository."
      ],
      "metadata": {
        "id": "LI4z0JhmTPCs"
      }
    },
    {
      "cell_type": "code",
      "source": [
        "import pandas as pd\n",
        "import statsmodels.api as sm\n",
        "\n",
        "users_df = pd.read_csv('users.csv')\n",
        "\n",
        "X = users_df['public_repos']\n",
        "y = users_df['followers']\n",
        "\n",
        "X = sm.add_constant(X)\n",
        "\n",
        "model = sm.OLS(y, X).fit()\n",
        "slope = model.params['public_repos']\n",
        "\n",
        "print(f\"Estimated additional followers per additional public repository: {slope:.3f}\")\n"
      ],
      "metadata": {
        "colab": {
          "base_uri": "https://localhost:8080/"
        },
        "id": "EZmmdh3bTW6R",
        "outputId": "a6f64691-317f-4c2b-89d1-96bf64314a48"
      },
      "execution_count": 14,
      "outputs": [
        {
          "output_type": "stream",
          "name": "stdout",
          "text": [
            "Estimated additional followers per additional public repository: 1.476\n"
          ]
        }
      ]
    },
    {
      "cell_type": "markdown",
      "source": [
        "Question 11: Do people typically enable projects and wikis together? What is the correlation between a repo having projects enabled and having wiki enabled?"
      ],
      "metadata": {
        "id": "eDJyv94bTXCg"
      }
    },
    {
      "cell_type": "code",
      "source": [
        "import pandas as pd\n",
        "\n",
        "repos_df = pd.read_csv('repositories.csv')\n",
        "\n",
        "repos_df['has_projects_binary'] = repos_df['has_projects'].astype(int)\n",
        "repos_df['has_wiki_binary'] = repos_df['has_wiki'].astype(int)\n",
        "\n",
        "correlation = repos_df['has_projects_binary'].corr(repos_df['has_wiki_binary'])\n",
        "\n",
        "print(f\"Correlation between having projects enabled and having wiki enabled: {correlation:.3f}\")\n"
      ],
      "metadata": {
        "colab": {
          "base_uri": "https://localhost:8080/"
        },
        "id": "N2iBzmqlTXIM",
        "outputId": "7324acd0-0939-4b7a-a842-40967c8359fa"
      },
      "execution_count": 18,
      "outputs": [
        {
          "output_type": "stream",
          "name": "stdout",
          "text": [
            "Correlation between having projects enabled and having wiki enabled: 0.333\n"
          ]
        }
      ]
    },
    {
      "cell_type": "markdown",
      "source": [
        "Question 12: Do hireable users follow more people than those who are not hireable?"
      ],
      "metadata": {
        "id": "Usg3-NWQTXNe"
      }
    },
    {
      "cell_type": "code",
      "source": [
        "import pandas as pd\n",
        "\n",
        "users_df = pd.read_csv('users.csv')\n",
        "\n",
        "hireable_users = users_df[users_df['hireable'] == True]\n",
        "non_hireable_users = users_df[users_df['hireable'].isna() | (users_df['hireable'] == False)]\n",
        "\n",
        "average_hireable_following = hireable_users['following'].mean() if not hireable_users.empty else 0\n",
        "average_non_hireable_following = non_hireable_users['following'].mean() if not non_hireable_users.empty else 0\n",
        "\n",
        "difference = average_hireable_following - average_non_hireable_following\n",
        "\n",
        "print(f'Difference in average following (hireable - non-hireable): {difference:.3f}')\n"
      ],
      "metadata": {
        "colab": {
          "base_uri": "https://localhost:8080/"
        },
        "id": "Ua0omQcVUGTa",
        "outputId": "eed5724a-e0f7-4efe-9688-37878504d40e"
      },
      "execution_count": 20,
      "outputs": [
        {
          "output_type": "stream",
          "name": "stdout",
          "text": [
            "Difference in average following (hireable - non-hireable): -841.534\n"
          ]
        }
      ]
    },
    {
      "cell_type": "markdown",
      "source": [
        "Question 13: Some developers write long bios. Does that help them get more followers? What's the impact of the length of their bio (in Unicode words, split by whitespace) with followers? (Ignore people without bios)"
      ],
      "metadata": {
        "id": "woDzOCoUU2FW"
      }
    },
    {
      "cell_type": "code",
      "source": [
        "from sklearn.linear_model import LinearRegression\n",
        "import numpy as np\n",
        "import pandas as pd\n",
        "\n",
        "# Load the users data\n",
        "users_df = pd.read_csv('users.csv')\n",
        "\n",
        "# Filter users with a bio\n",
        "users_with_bio = users_df[users_df['bio'].notna()]\n",
        "\n",
        "# Calculate the bio word count using .loc to avoid SettingWithCopyWarning\n",
        "users_with_bio.loc[:, 'bio_word_count'] = users_with_bio['bio'].apply(lambda x: len(x.split()))\n",
        "\n",
        "# Prepare the features and target variable\n",
        "X = users_with_bio[['bio_word_count']]\n",
        "y = users_with_bio['followers']\n",
        "\n",
        "# Fit the linear regression model\n",
        "regression_model = LinearRegression().fit(X, y)\n",
        "slope = regression_model.coef_[0]\n",
        "\n",
        "# Print the slope, which indicates how many additional followers are gained per additional word in the bio\n",
        "print(slope)\n"
      ],
      "metadata": {
        "colab": {
          "base_uri": "https://localhost:8080/"
        },
        "id": "4DC2ExmqU6BD",
        "outputId": "f732c2e2-09fe-47e0-f485-c15b4da5a679"
      },
      "execution_count": 24,
      "outputs": [
        {
          "output_type": "stream",
          "name": "stdout",
          "text": [
            "41.17240193733559\n"
          ]
        },
        {
          "output_type": "stream",
          "name": "stderr",
          "text": [
            "<ipython-input-24-dac0a0229a3c>:12: SettingWithCopyWarning: \n",
            "A value is trying to be set on a copy of a slice from a DataFrame.\n",
            "Try using .loc[row_indexer,col_indexer] = value instead\n",
            "\n",
            "See the caveats in the documentation: https://pandas.pydata.org/pandas-docs/stable/user_guide/indexing.html#returning-a-view-versus-a-copy\n",
            "  users_with_bio.loc[:, 'bio_word_count'] = users_with_bio['bio'].apply(lambda x: len(x.split()))\n"
          ]
        }
      ]
    },
    {
      "cell_type": "markdown",
      "source": [
        "Question 14: Who created the most repositories on weekends (UTC)? List the top 5 users' login in order, comma-separated"
      ],
      "metadata": {
        "id": "pd2Cuk5DU6HU"
      }
    },
    {
      "cell_type": "code",
      "source": [
        "import pandas as pd\n",
        "\n",
        "repos_df = pd.read_csv('repositories.csv')\n",
        "\n",
        "repos_df['created_at'] = pd.to_datetime(repos_df['created_at'])\n",
        "\n",
        "repos_df['day_of_week'] = repos_df['created_at'].dt.dayofweek\n",
        "\n",
        "weekend_repos = repos_df[repos_df['day_of_week'].isin([5, 6])]\n",
        "\n",
        "weekend_counts = weekend_repos.groupby('login').size().reset_index(name='repo_count')\n",
        "\n",
        "top_weekend_users = weekend_counts.sort_values(by='repo_count', ascending=False).head(5)\n",
        "\n",
        "top_users_logins = top_weekend_users['login'].tolist()\n",
        "\n",
        "print(\"Top 5 users who created the most repositories on weekends:\", \", \".join(top_users_logins))\n"
      ],
      "metadata": {
        "colab": {
          "base_uri": "https://localhost:8080/"
        },
        "id": "-JFqzvEPU9qY",
        "outputId": "cce805d5-24ca-4a96-9359-826d19325318"
      },
      "execution_count": 23,
      "outputs": [
        {
          "output_type": "stream",
          "name": "stdout",
          "text": [
            "Top 5 users who created the most repositories on weekends: kynan, yati-sagade, dw5, nicnocquee, sspreitzer\n"
          ]
        }
      ]
    },
    {
      "cell_type": "markdown",
      "source": [
        "Question 15: Do people who are hireable share their email addresses more often?"
      ],
      "metadata": {
        "id": "PTN34DD2U8wj"
      }
    },
    {
      "cell_type": "code",
      "source": [
        "import pandas as pd\n",
        "\n",
        "users_df = pd.read_csv('users.csv')\n",
        "\n",
        "hireable_users = users_df[users_df['hireable'] == True]\n",
        "non_hireable_users = users_df[users_df['hireable'].isna() | (users_df['hireable'] == False)]\n",
        "\n",
        "hireable_email_count = hireable_users['email'].notna().sum()\n",
        "non_hireable_email_count = non_hireable_users['email'].notna().sum()\n",
        "\n",
        "total_hireable_users = len(hireable_users)\n",
        "total_non_hireable_users = len(non_hireable_users)\n",
        "\n",
        "hireable_email_proportion = hireable_email_count / total_hireable_users if total_hireable_users > 0 else 0\n",
        "non_hireable_email_proportion = non_hireable_email_count / total_non_hireable_users if total_non_hireable_users > 0 else 0\n",
        "\n",
        "email_proportion_difference = hireable_email_proportion - non_hireable_email_proportion\n",
        "\n",
        "print(f'Difference in email sharing proportion: {email_proportion_difference:.3f}')\n"
      ],
      "metadata": {
        "colab": {
          "base_uri": "https://localhost:8080/"
        },
        "id": "qDc361NQV70X",
        "outputId": "90d6d44c-2e98-498a-8c4f-fbe740b04f45"
      },
      "execution_count": 26,
      "outputs": [
        {
          "output_type": "stream",
          "name": "stdout",
          "text": [
            "Difference in email sharing proportion: 0.074\n"
          ]
        }
      ]
    },
    {
      "cell_type": "markdown",
      "source": [
        "Question 16: Let's assume that the last word in a user's name is their surname (ignore missing names, trim and split by whitespace.) What's the most common surname? (If there's a tie, list them all, comma-separated, alphabetically)"
      ],
      "metadata": {
        "id": "5tbJ2NkRV77I"
      }
    },
    {
      "cell_type": "code",
      "source": [
        "import pandas as pd\n",
        "from collections import Counter\n",
        "\n",
        "users_df = pd.read_csv('users.csv')\n",
        "\n",
        "valid_users = users_df[users_df['name'].notna()]\n",
        "\n",
        "valid_users['surname'] = valid_users['name'].apply(lambda x: x.strip().split()[-1])\n",
        "\n",
        "surname_counts = Counter(valid_users['surname'])\n",
        "\n",
        "max_count = max(surname_counts.values())\n",
        "\n",
        "most_common_surnames = sorted([surname for surname, count in surname_counts.items() if count == max_count])\n",
        "\n",
        "result = ', '.join(most_common_surnames)\n",
        "\n",
        "print(f'Most common surname(s): {result}')\n"
      ],
      "metadata": {
        "colab": {
          "base_uri": "https://localhost:8080/"
        },
        "id": "0rBWTQ_gWagP",
        "outputId": "785a6658-5637-4620-84ab-d81074ef9f29"
      },
      "execution_count": 27,
      "outputs": [
        {
          "output_type": "stream",
          "name": "stdout",
          "text": [
            "Most common surname(s): Li, Wang\n"
          ]
        },
        {
          "output_type": "stream",
          "name": "stderr",
          "text": [
            "<ipython-input-27-fffbec6582d6>:8: SettingWithCopyWarning: \n",
            "A value is trying to be set on a copy of a slice from a DataFrame.\n",
            "Try using .loc[row_indexer,col_indexer] = value instead\n",
            "\n",
            "See the caveats in the documentation: https://pandas.pydata.org/pandas-docs/stable/user_guide/indexing.html#returning-a-view-versus-a-copy\n",
            "  valid_users['surname'] = valid_users['name'].apply(lambda x: x.strip().split()[-1])\n"
          ]
        }
      ]
    }
  ]
}